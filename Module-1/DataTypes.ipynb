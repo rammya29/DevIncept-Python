{
  "nbformat": 4,
  "nbformat_minor": 0,
  "metadata": {
    "colab": {
      "name": "DataTypes.ipynb",
      "provenance": [],
      "authorship_tag": "ABX9TyNvz2G8ae/QEU5C2UvCK0lY",
      "include_colab_link": true
    },
    "kernelspec": {
      "name": "python3",
      "display_name": "Python 3"
    },
    "language_info": {
      "name": "python"
    }
  },
  "cells": [
    {
      "cell_type": "markdown",
      "metadata": {
        "id": "view-in-github",
        "colab_type": "text"
      },
      "source": [
        "<a href=\"https://colab.research.google.com/github/rammya29/DevIncept-Python/blob/main/Module-1/DataTypes.ipynb\" target=\"_parent\"><img src=\"https://colab.research.google.com/assets/colab-badge.svg\" alt=\"Open In Colab\"/></a>"
      ]
    },
    {
      "cell_type": "markdown",
      "metadata": {
        "id": "i_xS_o7H7ZPu"
      },
      "source": [
        "# Variable - Data Types"
      ]
    },
    {
      "cell_type": "markdown",
      "metadata": {
        "id": "nnANcowKRlSK"
      },
      "source": [
        "Variables are like boxes or containers which stores any data. We can declare the variables using alphabet or using strings (more than one alphabet)."
      ]
    },
    {
      "cell_type": "markdown",
      "metadata": {
        "id": "VhISYYzC7dwe"
      },
      "source": [
        "## List Of Data Types"
      ]
    },
    {
      "cell_type": "markdown",
      "metadata": {
        "id": "LI7Htuwm7oXV"
      },
      "source": [
        "- Numeric\n",
        "  - Integer\n",
        "  - Float\n",
        "  - Complex\n",
        "- Dictionary\n",
        "- Boolean\n",
        "- Set\n",
        "- Sequence Type \n",
        "   - String\n",
        "   - List\n",
        "   - Tuple\n"
      ]
    },
    {
      "cell_type": "markdown",
      "metadata": {
        "id": "Bj6iuLFB8jr8"
      },
      "source": [
        "## Assignment of Different Data Types"
      ]
    },
    {
      "cell_type": "code",
      "metadata": {
        "id": "eb45PG4S7VWu",
        "colab": {
          "base_uri": "https://localhost:8080/"
        },
        "outputId": "2b4d881b-393d-4ec1-c929-be28738eec46"
      },
      "source": [
        "x = 3\n",
        "print(type(x)) "
      ],
      "execution_count": 1,
      "outputs": [
        {
          "output_type": "stream",
          "text": [
            "<class 'int'>\n"
          ],
          "name": "stdout"
        }
      ]
    },
    {
      "cell_type": "code",
      "metadata": {
        "colab": {
          "base_uri": "https://localhost:8080/"
        },
        "id": "Z8uhYDCrNfEu",
        "outputId": "66e7d038-b089-426c-844e-b3e3e0bf740c"
      },
      "source": [
        "a = -2\n",
        "print(type(a))"
      ],
      "execution_count": 2,
      "outputs": [
        {
          "output_type": "stream",
          "text": [
            "<class 'int'>\n"
          ],
          "name": "stdout"
        }
      ]
    },
    {
      "cell_type": "code",
      "metadata": {
        "colab": {
          "base_uri": "https://localhost:8080/"
        },
        "id": "5i42yE1qNfCn",
        "outputId": "651d9521-2ac1-4602-9809-9f27d46d2a25"
      },
      "source": [
        "a = +2\n",
        "print(type(a))"
      ],
      "execution_count": 3,
      "outputs": [
        {
          "output_type": "stream",
          "text": [
            "<class 'int'>\n"
          ],
          "name": "stdout"
        }
      ]
    },
    {
      "cell_type": "code",
      "metadata": {
        "colab": {
          "base_uri": "https://localhost:8080/"
        },
        "id": "SkbJaZ0_NfAK",
        "outputId": "46fd76c5-2a2c-4e19-f2e7-a6b5b264fd9e"
      },
      "source": [
        "B = 4234.24\n",
        "print(type(B))"
      ],
      "execution_count": 4,
      "outputs": [
        {
          "output_type": "stream",
          "text": [
            "<class 'float'>\n"
          ],
          "name": "stdout"
        }
      ]
    },
    {
      "cell_type": "code",
      "metadata": {
        "colab": {
          "base_uri": "https://localhost:8080/"
        },
        "id": "9cbDL9GBNe9i",
        "outputId": "30be535c-b0de-4255-b394-8365f2752c8a"
      },
      "source": [
        "c = -342.45\n",
        "print(type(c))"
      ],
      "execution_count": 5,
      "outputs": [
        {
          "output_type": "stream",
          "text": [
            "<class 'float'>\n"
          ],
          "name": "stdout"
        }
      ]
    },
    {
      "cell_type": "code",
      "metadata": {
        "colab": {
          "base_uri": "https://localhost:8080/"
        },
        "id": "d0LJbU8sNe6P",
        "outputId": "c4d893da-6c63-457e-cf73-b588389fc441"
      },
      "source": [
        "c = -342.4555664455899973452\n",
        "print(type(c))"
      ],
      "execution_count": 7,
      "outputs": [
        {
          "output_type": "stream",
          "text": [
            "<class 'float'>\n"
          ],
          "name": "stdout"
        }
      ]
    },
    {
      "cell_type": "code",
      "metadata": {
        "colab": {
          "base_uri": "https://localhost:8080/"
        },
        "id": "z3TnoLRxNe2l",
        "outputId": "48011de9-7033-40ab-8fd4-0f6ce52e5054"
      },
      "source": [
        "d = 2 + 3j\n",
        "print(type(d))"
      ],
      "execution_count": 8,
      "outputs": [
        {
          "output_type": "stream",
          "text": [
            "<class 'complex'>\n"
          ],
          "name": "stdout"
        }
      ]
    },
    {
      "cell_type": "code",
      "metadata": {
        "colab": {
          "base_uri": "https://localhost:8080/"
        },
        "id": "XSg2L1ofNezi",
        "outputId": "03bd1c74-b420-4eff-ff2c-fce9203b621d"
      },
      "source": [
        "comp = -5 + 36j\n",
        "print(type(comp))"
      ],
      "execution_count": 9,
      "outputs": [
        {
          "output_type": "stream",
          "text": [
            "<class 'complex'>\n"
          ],
          "name": "stdout"
        }
      ]
    },
    {
      "cell_type": "code",
      "metadata": {
        "colab": {
          "base_uri": "https://localhost:8080/"
        },
        "id": "JqaUAkiXNexE",
        "outputId": "02ca2d28-8f40-4f17-cbe8-247ed17a189d"
      },
      "source": [
        "a = 11\n",
        "b = 10 \n",
        "c = a < b      # gives output as \"True\" or \"False\". This is boolean type\n",
        "print(c)\n",
        "print(type(c))"
      ],
      "execution_count": 10,
      "outputs": [
        {
          "output_type": "stream",
          "text": [
            "False\n",
            "<class 'bool'>\n"
          ],
          "name": "stdout"
        }
      ]
    },
    {
      "cell_type": "code",
      "metadata": {
        "colab": {
          "base_uri": "https://localhost:8080/"
        },
        "id": "QjgZuqvDNeuR",
        "outputId": "504a1db5-3732-4972-ba9b-1f90bf637ad9"
      },
      "source": [
        "a = \"Dev Incept\"\n",
        "print(type(a))"
      ],
      "execution_count": 11,
      "outputs": [
        {
          "output_type": "stream",
          "text": [
            "<class 'str'>\n"
          ],
          "name": "stdout"
        }
      ]
    },
    {
      "cell_type": "code",
      "metadata": {
        "colab": {
          "base_uri": "https://localhost:8080/"
        },
        "id": "geOlg2fsNeq4",
        "outputId": "bd26693f-376c-4680-e9a6-d2e67f131848"
      },
      "source": [
        "a = ' '\n",
        "print(type(a))"
      ],
      "execution_count": 12,
      "outputs": [
        {
          "output_type": "stream",
          "text": [
            "<class 'str'>\n"
          ],
          "name": "stdout"
        }
      ]
    },
    {
      "cell_type": "code",
      "metadata": {
        "colab": {
          "base_uri": "https://localhost:8080/"
        },
        "id": "V5fAfAXjOBeW",
        "outputId": "c678b0b3-6a2d-474c-ad22-46640d6e45a8"
      },
      "source": [
        "a = \"-4\"     \n",
        "print(type(a))"
      ],
      "execution_count": 13,
      "outputs": [
        {
          "output_type": "stream",
          "text": [
            "<class 'str'>\n"
          ],
          "name": "stdout"
        }
      ]
    },
    {
      "cell_type": "markdown",
      "metadata": {
        "id": "iv39UTjbOGPC"
      },
      "source": [
        "## Operation with string"
      ]
    },
    {
      "cell_type": "code",
      "metadata": {
        "colab": {
          "base_uri": "https://localhost:8080/"
        },
        "id": "66kAXwaQOBcB",
        "outputId": "a9d27b1f-f7ea-4a10-e8ee-d46215aa949f"
      },
      "source": [
        "name = \"Dev Incept \"\n",
        "print(name[0])"
      ],
      "execution_count": 14,
      "outputs": [
        {
          "output_type": "stream",
          "text": [
            "D\n"
          ],
          "name": "stdout"
        }
      ]
    },
    {
      "cell_type": "code",
      "metadata": {
        "colab": {
          "base_uri": "https://localhost:8080/"
        },
        "id": "Gp8MA3j2OBZg",
        "outputId": "5ab2de76-9775-47bf-f3cd-7a4204914c1d"
      },
      "source": [
        "name = \"Dev Incept\"  # Slicing Operator\n",
        "print(name[0 : 3])"
      ],
      "execution_count": 15,
      "outputs": [
        {
          "output_type": "stream",
          "text": [
            "Dev\n"
          ],
          "name": "stdout"
        }
      ]
    },
    {
      "cell_type": "code",
      "metadata": {
        "colab": {
          "base_uri": "https://localhost:8080/"
        },
        "id": "sJRuhAdEOBWb",
        "outputId": "83f234e2-3874-451f-cd5a-4a627ddd5849"
      },
      "source": [
        "name = \"Dev Incept\"  #  Upto last\n",
        "print(name[2 : ])"
      ],
      "execution_count": 16,
      "outputs": [
        {
          "output_type": "stream",
          "text": [
            "v Incept\n"
          ],
          "name": "stdout"
        }
      ]
    },
    {
      "cell_type": "code",
      "metadata": {
        "colab": {
          "base_uri": "https://localhost:8080/",
          "height": 35
        },
        "id": "NzXmVP6BOBTp",
        "outputId": "6493e46f-b216-4c2f-d8a0-0ee5b4d465d6"
      },
      "source": [
        "name = \"Dev Incept\" # UpperCase\n",
        "name.upper()"
      ],
      "execution_count": 17,
      "outputs": [
        {
          "output_type": "execute_result",
          "data": {
            "application/vnd.google.colaboratory.intrinsic+json": {
              "type": "string"
            },
            "text/plain": [
              "'DEV INCEPT'"
            ]
          },
          "metadata": {
            "tags": []
          },
          "execution_count": 17
        }
      ]
    },
    {
      "cell_type": "code",
      "metadata": {
        "colab": {
          "base_uri": "https://localhost:8080/",
          "height": 35
        },
        "id": "S4GiOgIqOBNd",
        "outputId": "36d757ae-71b8-4f17-fe57-80e7d9becf36"
      },
      "source": [
        "name = 'DEV INCEPT' # lowerCase\n",
        "name.lower()"
      ],
      "execution_count": 18,
      "outputs": [
        {
          "output_type": "execute_result",
          "data": {
            "application/vnd.google.colaboratory.intrinsic+json": {
              "type": "string"
            },
            "text/plain": [
              "'dev incept'"
            ]
          },
          "metadata": {
            "tags": []
          },
          "execution_count": 18
        }
      ]
    },
    {
      "cell_type": "code",
      "metadata": {
        "colab": {
          "base_uri": "https://localhost:8080/"
        },
        "id": "wO6lD1GzOgFk",
        "outputId": "5f30f865-7851-417b-c644-2a294aab6a5d"
      },
      "source": [
        "name = \"Dev Incept\" \n",
        "print(name.split()) # Split when space appears\n",
        "\n",
        "print(name.split('n'))  # splitting at \"n\""
      ],
      "execution_count": 19,
      "outputs": [
        {
          "output_type": "stream",
          "text": [
            "['Dev', 'Incept']\n",
            "['Dev I', 'cept']\n"
          ],
          "name": "stdout"
        }
      ]
    },
    {
      "cell_type": "code",
      "metadata": {
        "colab": {
          "base_uri": "https://localhost:8080/"
        },
        "id": "I8rNR--COgCq",
        "outputId": "9ebfe9d5-b9a1-41e0-a61a-2be3c1de5fb9"
      },
      "source": [
        "name = \"Dev Incept\"\n",
        "print(name[:])  # start to end"
      ],
      "execution_count": 20,
      "outputs": [
        {
          "output_type": "stream",
          "text": [
            "Dev Incept\n"
          ],
          "name": "stdout"
        }
      ]
    },
    {
      "cell_type": "code",
      "metadata": {
        "colab": {
          "base_uri": "https://localhost:8080/",
          "height": 35
        },
        "id": "v_O0n2wNOf_2",
        "outputId": "3e54cb03-a8ca-44f2-9f3f-723b0448ef44"
      },
      "source": [
        "name = \"Dev Incept\" \n",
        "name.replace(\"D\" , \"M\") # Replace with M in palce of D"
      ],
      "execution_count": 21,
      "outputs": [
        {
          "output_type": "execute_result",
          "data": {
            "application/vnd.google.colaboratory.intrinsic+json": {
              "type": "string"
            },
            "text/plain": [
              "'Mev Incept'"
            ]
          },
          "metadata": {
            "tags": []
          },
          "execution_count": 21
        }
      ]
    },
    {
      "cell_type": "code",
      "metadata": {
        "colab": {
          "base_uri": "https://localhost:8080/"
        },
        "id": "8VPYD1GmOf76",
        "outputId": "16328e6c-a369-4197-9e36-7780bf803838"
      },
      "source": [
        "name = \"Dev Incept\"\n",
        "another_name = \" Rocks\"\n",
        "print(name + another_name) # Concatenation"
      ],
      "execution_count": 22,
      "outputs": [
        {
          "output_type": "stream",
          "text": [
            "Dev Incept Rocks\n"
          ],
          "name": "stdout"
        }
      ]
    },
    {
      "cell_type": "code",
      "metadata": {
        "colab": {
          "base_uri": "https://localhost:8080/"
        },
        "id": "2ROU8-_8O8Hf",
        "outputId": "287fb26d-3fb5-45de-a4df-20c0e2ae886b"
      },
      "source": [
        "name = \"Dev Incept \" \n",
        "print(name * 2) # Multiple time print"
      ],
      "execution_count": 23,
      "outputs": [
        {
          "output_type": "stream",
          "text": [
            "Dev Incept Dev Incept \n"
          ],
          "name": "stdout"
        }
      ]
    },
    {
      "cell_type": "code",
      "metadata": {
        "colab": {
          "base_uri": "https://localhost:8080/"
        },
        "id": "TiiSF0WnO8BV",
        "outputId": "94c97651-feec-4cd5-95c3-21588ef7f048"
      },
      "source": [
        "name = \"Dev Incept\"  # To find length\n",
        "print(len(name)) "
      ],
      "execution_count": 24,
      "outputs": [
        {
          "output_type": "stream",
          "text": [
            "10\n"
          ],
          "name": "stdout"
        }
      ]
    },
    {
      "cell_type": "code",
      "metadata": {
        "colab": {
          "base_uri": "https://localhost:8080/"
        },
        "id": "JGkDyIcWO7-j",
        "outputId": "ffaa0274-898e-4630-c9e7-717fde988be4"
      },
      "source": [
        "name = \"Dev Incept\" \n",
        "print(name[-1])  # last element"
      ],
      "execution_count": 25,
      "outputs": [
        {
          "output_type": "stream",
          "text": [
            "t\n"
          ],
          "name": "stdout"
        }
      ]
    },
    {
      "cell_type": "code",
      "metadata": {
        "colab": {
          "base_uri": "https://localhost:8080/"
        },
        "id": "ahv_P9E6O76_",
        "outputId": "5769eedc-3a5f-40ed-fbe8-7a8b52e09640"
      },
      "source": [
        "name = \"Dev Incept\" \n",
        "print(name[-4 : -1])"
      ],
      "execution_count": 26,
      "outputs": [
        {
          "output_type": "stream",
          "text": [
            "cep\n"
          ],
          "name": "stdout"
        }
      ]
    },
    {
      "cell_type": "code",
      "metadata": {
        "colab": {
          "base_uri": "https://localhost:8080/"
        },
        "id": "08PPo0FOPLvi",
        "outputId": "d3f65763-3f88-4f03-b2bf-0f4a7e5c0a01"
      },
      "source": [
        "name = \"Dev Incept\"\n",
        "print(name[::-1]) # Reverse "
      ],
      "execution_count": 28,
      "outputs": [
        {
          "output_type": "stream",
          "text": [
            "tpecnI veD\n"
          ],
          "name": "stdout"
        }
      ]
    },
    {
      "cell_type": "markdown",
      "metadata": {
        "id": "gmebLUTSPYDo"
      },
      "source": [
        "## Conversion Type"
      ]
    },
    {
      "cell_type": "code",
      "metadata": {
        "colab": {
          "base_uri": "https://localhost:8080/"
        },
        "id": "JmN2JYALPaxU",
        "outputId": "154b2cfe-d182-4554-e38e-e2fd63122ada"
      },
      "source": [
        "x = 5 \n",
        "y = float(x)        \n",
        "print(y)\n",
        "print(type(y))"
      ],
      "execution_count": 30,
      "outputs": [
        {
          "output_type": "stream",
          "text": [
            "5.0\n",
            "<class 'float'>\n"
          ],
          "name": "stdout"
        }
      ]
    },
    {
      "cell_type": "code",
      "metadata": {
        "colab": {
          "base_uri": "https://localhost:8080/"
        },
        "id": "vBT7hnZSPbVr",
        "outputId": "188d1541-bdce-49af-c46f-3d5970a8c697"
      },
      "source": [
        "x = 4.34\n",
        "y = int(x)         \n",
        "print(y)\n",
        "print(type(y))"
      ],
      "execution_count": 31,
      "outputs": [
        {
          "output_type": "stream",
          "text": [
            "4\n",
            "<class 'int'>\n"
          ],
          "name": "stdout"
        }
      ]
    },
    {
      "cell_type": "code",
      "metadata": {
        "colab": {
          "base_uri": "https://localhost:8080/"
        },
        "id": "GIrJ8wfMPbSi",
        "outputId": "7005b657-7f36-450e-981b-4a4fb3d3602a"
      },
      "source": [
        "x = 0\n",
        "y = bool(x)       \n",
        "print(y)\n",
        "print(type(y))"
      ],
      "execution_count": 32,
      "outputs": [
        {
          "output_type": "stream",
          "text": [
            "False\n",
            "<class 'bool'>\n"
          ],
          "name": "stdout"
        }
      ]
    },
    {
      "cell_type": "code",
      "metadata": {
        "colab": {
          "base_uri": "https://localhost:8080/"
        },
        "id": "tnNxJ-gbPa__",
        "outputId": "658714ff-6ca3-47c1-ce1f-83a4e8dce262"
      },
      "source": [
        "x = int(True)        \n",
        "print(x)\n",
        "print(type(x))"
      ],
      "execution_count": 33,
      "outputs": [
        {
          "output_type": "stream",
          "text": [
            "1\n",
            "<class 'int'>\n"
          ],
          "name": "stdout"
        }
      ]
    },
    {
      "cell_type": "code",
      "metadata": {
        "colab": {
          "base_uri": "https://localhost:8080/"
        },
        "id": "onUiz4O2Pa8k",
        "outputId": "dc2f95f8-3500-4f0b-eb99-07e7a4cdc423"
      },
      "source": [
        "a = False\n",
        "b = float(a)          \n",
        "print(b)\n",
        "print(type(b))"
      ],
      "execution_count": 35,
      "outputs": [
        {
          "output_type": "stream",
          "text": [
            "0.0\n",
            "<class 'float'>\n"
          ],
          "name": "stdout"
        }
      ]
    },
    {
      "cell_type": "code",
      "metadata": {
        "colab": {
          "base_uri": "https://localhost:8080/"
        },
        "id": "6desNO1CPa4T",
        "outputId": "62e3d8b7-5041-49c5-d9b7-74e646e8f784"
      },
      "source": [
        "a = \"1001\"\n",
        "print(int(a,2)) \n",
        "  "
      ],
      "execution_count": 40,
      "outputs": [
        {
          "output_type": "stream",
          "text": [
            "9\n"
          ],
          "name": "stdout"
        }
      ]
    },
    {
      "cell_type": "code",
      "metadata": {
        "colab": {
          "base_uri": "https://localhost:8080/"
        },
        "id": "LExU-f89QBdS",
        "outputId": "79c07112-91ad-4344-f931-a97386aab41a"
      },
      "source": [
        "print(int(a,10))  "
      ],
      "execution_count": 37,
      "outputs": [
        {
          "output_type": "stream",
          "text": [
            "1001\n"
          ],
          "name": "stdout"
        }
      ]
    },
    {
      "cell_type": "code",
      "metadata": {
        "colab": {
          "base_uri": "https://localhost:8080/"
        },
        "id": "J9BKH2u-QBZQ",
        "outputId": "84909e04-ed23-4e26-efa3-93cbb69476d4"
      },
      "source": [
        "print(int(a,16))"
      ],
      "execution_count": 38,
      "outputs": [
        {
          "output_type": "stream",
          "text": [
            "4097\n"
          ],
          "name": "stdout"
        }
      ]
    },
    {
      "cell_type": "code",
      "metadata": {
        "colab": {
          "base_uri": "https://localhost:8080/"
        },
        "id": "zHD3hnYEQBWQ",
        "outputId": "b699aecb-cb65-4b1f-d799-7cb1b921e20c"
      },
      "source": [
        "num = 45\n",
        "print(hex(num))     \n",
        "print(oct(num))"
      ],
      "execution_count": 41,
      "outputs": [
        {
          "output_type": "stream",
          "text": [
            "0x2d\n",
            "0o55\n"
          ],
          "name": "stdout"
        }
      ]
    },
    {
      "cell_type": "markdown",
      "metadata": {
        "id": "mlVICfX_Qfzs"
      },
      "source": [
        "## Operations"
      ]
    },
    {
      "cell_type": "markdown",
      "metadata": {
        "id": "PYrN-lRfQkGd"
      },
      "source": [
        "Arithmetic Operation"
      ]
    },
    {
      "cell_type": "code",
      "metadata": {
        "colab": {
          "base_uri": "https://localhost:8080/"
        },
        "id": "DtsdubLLQBSG",
        "outputId": "ee93449d-7740-4f51-8eee-5e6608ec5db2"
      },
      "source": [
        "x = 10 \n",
        "y = 20\n",
        "\n",
        "print(\"Addition : \",x + y)\n",
        "print(\"Subtraction : \",x - y)\n",
        "print(\"Multiplication : \",x * y) \n",
        "print(\"Divivsion : \",x / y)\n",
        "print(\"Modulus : \",x % y)\n",
        "print(\"Floor division : \",x // y)\n",
        "print(\"Exponential : \",x ** y)"
      ],
      "execution_count": 42,
      "outputs": [
        {
          "output_type": "stream",
          "text": [
            "Addition :  30\n",
            "Subtraction :  -10\n",
            "Multiplication :  200\n",
            "Divivsion :  0.5\n",
            "Modulus :  10\n",
            "Floor division :  0\n",
            "Exponential :  100000000000000000000\n"
          ],
          "name": "stdout"
        }
      ]
    },
    {
      "cell_type": "markdown",
      "metadata": {
        "id": "hoctbUm9RJU9"
      },
      "source": [
        "Comparision or Relational Operator"
      ]
    },
    {
      "cell_type": "code",
      "metadata": {
        "colab": {
          "base_uri": "https://localhost:8080/"
        },
        "id": "fr-JfpuZQBOW",
        "outputId": "4265e275-bab9-4780-a78b-822e8ef713bd"
      },
      "source": [
        "x = 10 \n",
        "y = 20 \n",
        "\n",
        "print(\"x = y :\", x == y)\n",
        "print(\"x < y :\", x < y)\n",
        "print(\"x > y :\", x > y)\n",
        "print(\"x <= y :\", x <= y)\n",
        "print(\"x >= y :\", x >= y)\n",
        "print(\"x != y :\", x != y) "
      ],
      "execution_count": 43,
      "outputs": [
        {
          "output_type": "stream",
          "text": [
            "x = y : False\n",
            "x < y : True\n",
            "x > y : False\n",
            "x <= y : True\n",
            "x >= y : False\n",
            "x != y : True\n"
          ],
          "name": "stdout"
        }
      ]
    },
    {
      "cell_type": "markdown",
      "metadata": {
        "id": "tOmyfLeWRD2X"
      },
      "source": [
        "Logical Operator"
      ]
    },
    {
      "cell_type": "code",
      "metadata": {
        "colab": {
          "base_uri": "https://localhost:8080/"
        },
        "id": "kPUaLHF7Qv-o",
        "outputId": "5ca3a4d8-a608-43d0-f9eb-77590e8ddb7f"
      },
      "source": [
        "x = 10\n",
        "\n",
        "print(\"AND :\",x > 5 and x < 10)        # Both conditions True --> output will be True , or else False\n",
        "print(\"OR :\",x > 5 or x < 10)         # Any one condition is True --> output will be True , or else False\n",
        "print(\"NAND :\",not(x >5 and x < 10))    # opposite to AND i.e, NAND \n",
        "print(\"NOR : \",not(x > 5 or x < 10) )"
      ],
      "execution_count": 44,
      "outputs": [
        {
          "output_type": "stream",
          "text": [
            "AND : False\n",
            "OR : True\n",
            "NAND : True\n",
            "NOR :  False\n"
          ],
          "name": "stdout"
        }
      ]
    },
    {
      "cell_type": "markdown",
      "metadata": {
        "id": "9jMlaEQHRAkk"
      },
      "source": [
        "Bitwise Operator"
      ]
    },
    {
      "cell_type": "code",
      "metadata": {
        "colab": {
          "base_uri": "https://localhost:8080/"
        },
        "id": "QgKgIlYJQ98L",
        "outputId": "52549ae3-6c6c-47b7-9aac-aaff2ff9c331"
      },
      "source": [
        "x = 1001\n",
        "y = 1000\n",
        "\n",
        "print(\"x AND y is :\",x & y)\n",
        "print(\"x OR y is :\",x | y)\n",
        "print(\"x XOR y is :\",x ^ y)\n",
        "print(\"NOT y is :\", ~ y)"
      ],
      "execution_count": 45,
      "outputs": [
        {
          "output_type": "stream",
          "text": [
            "x AND y is : 1000\n",
            "x OR y is : 1001\n",
            "x XOR y is : 1\n",
            "NOT y is : -1001\n"
          ],
          "name": "stdout"
        }
      ]
    },
    {
      "cell_type": "markdown",
      "metadata": {
        "id": "fpOw5ow9RThR"
      },
      "source": [
        "# End of Second Practise - Exercise\n",
        "\n",
        "See you in next Topic"
      ]
    }
  ]
}