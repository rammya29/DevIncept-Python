{
  "nbformat": 4,
  "nbformat_minor": 0,
  "metadata": {
    "colab": {
      "name": "BasicOperators.ipynb",
      "provenance": [],
      "authorship_tag": "ABX9TyNIyJhxyonaX627QbI9Wm1l",
      "include_colab_link": true
    },
    "kernelspec": {
      "name": "python3",
      "display_name": "Python 3"
    },
    "language_info": {
      "name": "python"
    }
  },
  "cells": [
    {
      "cell_type": "markdown",
      "metadata": {
        "id": "view-in-github",
        "colab_type": "text"
      },
      "source": [
        "<a href=\"https://colab.research.google.com/github/rammya29/DevIncept-Python/blob/main/Module-1/BasicOperators.ipynb\" target=\"_parent\"><img src=\"https://colab.research.google.com/assets/colab-badge.svg\" alt=\"Open In Colab\"/></a>"
      ]
    },
    {
      "cell_type": "markdown",
      "metadata": {
        "id": "UfI6jmK9SUqf"
      },
      "source": [
        "# Basic Operators in Python"
      ]
    },
    {
      "cell_type": "markdown",
      "metadata": {
        "id": "0bBdmH8XSr8w"
      },
      "source": [
        "All Operator"
      ]
    },
    {
      "cell_type": "code",
      "metadata": {
        "colab": {
          "base_uri": "https://localhost:8080/"
        },
        "id": "8jI0DAubSOsR",
        "outputId": "7c78cb26-f6c9-40be-ac2e-433d6e0f748e"
      },
      "source": [
        "# Here all the iterables are True so all will return True and the same will be printed \n",
        "print (all([True, True, True, True])) \n",
        "\n",
        "# Here the method will short-circuit at the first item (False) and will return False. \n",
        "print (all([False, True, True, False])) \n",
        "\n",
        "# This statement will return False, as no True is found in the iterables \n",
        "print (all([False, False, False]))"
      ],
      "execution_count": 1,
      "outputs": [
        {
          "output_type": "stream",
          "text": [
            "True\n",
            "False\n",
            "False\n"
          ],
          "name": "stdout"
        }
      ]
    },
    {
      "cell_type": "markdown",
      "metadata": {
        "id": "Z_N1YLIlS6se"
      },
      "source": [
        "Any Operator"
      ]
    },
    {
      "cell_type": "code",
      "metadata": {
        "colab": {
          "base_uri": "https://localhost:8080/"
        },
        "id": "ZxzJGnKvS9GT",
        "outputId": "e41c6be5-d800-460f-dc62-bb9cd0620e8b"
      },
      "source": [
        "# Since all are false, false is returned \n",
        "print (any([False, False, False, False])) \n",
        "\n",
        "# Here the method will short-circuit at the second item (True) and will return True. \n",
        "print (any([False, True, False, False])) \n",
        "\n",
        "# Here the method will short-circuit at the first (True) and will return True. \n",
        "print (any([True, False, False, False]))"
      ],
      "execution_count": 2,
      "outputs": [
        {
          "output_type": "stream",
          "text": [
            "False\n",
            "True\n",
            "True\n"
          ],
          "name": "stdout"
        }
      ]
    },
    {
      "cell_type": "markdown",
      "metadata": {
        "id": "H_s4yMmkTwnG"
      },
      "source": [
        "Identity Operator"
      ]
    },
    {
      "cell_type": "code",
      "metadata": {
        "colab": {
          "base_uri": "https://localhost:8080/"
        },
        "id": "2lCPIWwRTPYX",
        "outputId": "642bb252-28c3-4835-c26a-fa6df8a7f553"
      },
      "source": [
        "a1 = 3\n",
        "b1 = 3\n",
        "a2 = 'hello'\n",
        "b2 = 'hello'\n",
        "a3 = [1,2,3] \n",
        "b3 = [1,2,3] \n",
        "print(a1 is not b1) \n",
        "\n",
        "\n",
        "print(a2 is b2) \n",
        "\n",
        "# Output is False, since lists are mutable. \n",
        "print(a3 is b3)"
      ],
      "execution_count": 5,
      "outputs": [
        {
          "output_type": "stream",
          "text": [
            "False\n",
            "True\n",
            "False\n"
          ],
          "name": "stdout"
        }
      ]
    },
    {
      "cell_type": "markdown",
      "metadata": {
        "id": "Od5DJ6BuTi85"
      },
      "source": [
        "Membership Operator"
      ]
    },
    {
      "cell_type": "code",
      "metadata": {
        "colab": {
          "base_uri": "https://localhost:8080/"
        },
        "id": "59BFdx2_TPUr",
        "outputId": "65fbb896-25c5-426d-8df3-f44545dbbc96"
      },
      "source": [
        "x = 'hello guys'\n",
        "y = {3:'a',4:'b'} \n",
        "\n",
        "\n",
        "print('h' in x) \n",
        "\n",
        "print('Hello' not in x) # case-sensitive\n",
        "\n",
        "print('hello' not in x) \n",
        "\n",
        "print(3 in y)"
      ],
      "execution_count": 4,
      "outputs": [
        {
          "output_type": "stream",
          "text": [
            "True\n",
            "True\n",
            "False\n",
            "True\n"
          ],
          "name": "stdout"
        }
      ]
    },
    {
      "cell_type": "markdown",
      "metadata": {
        "id": "jMpFJE0yTS5m"
      },
      "source": [
        "Bitwise Operator"
      ]
    },
    {
      "cell_type": "code",
      "metadata": {
        "colab": {
          "base_uri": "https://localhost:8080/"
        },
        "id": "U9XvSgeTTPPQ",
        "outputId": "e53d3e1e-1c5a-421e-c0e0-ae6668ed8de3"
      },
      "source": [
        "a = 10\n",
        "b = 4\n",
        "\n",
        " \n",
        "print(a & b)  # Print bitwise AND operation  \n",
        "\n",
        "\n",
        "print(a | b)  # Print bitwise OR operation \n",
        "\n",
        "  \n",
        "print(~a)  # Print bitwise NOT operation\n",
        "\n",
        "  \n",
        "print(a ^ b)  # print bitwise XOR operation\n",
        "\n",
        "  \n",
        "print(a >> 2)  # print bitwise right shift operation\n",
        "\n",
        "  \n",
        "print(a << 2) # print bitwise left shift operation"
      ],
      "execution_count": 3,
      "outputs": [
        {
          "output_type": "stream",
          "text": [
            "0\n",
            "14\n",
            "-11\n",
            "14\n",
            "2\n",
            "40\n"
          ],
          "name": "stdout"
        }
      ]
    },
    {
      "cell_type": "markdown",
      "metadata": {
        "id": "-PxPCDKJT9q3"
      },
      "source": [
        "# End of Third Practice Exercise \n",
        "\n",
        "See you in next Topic"
      ]
    }
  ]
}