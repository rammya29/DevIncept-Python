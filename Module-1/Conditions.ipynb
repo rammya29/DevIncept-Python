{
  "nbformat": 4,
  "nbformat_minor": 0,
  "metadata": {
    "colab": {
      "name": "Conditions.ipynb",
      "provenance": [],
      "authorship_tag": "ABX9TyNmIakI+pXanxgSdePOzhnP",
      "include_colab_link": true
    },
    "kernelspec": {
      "name": "python3",
      "display_name": "Python 3"
    },
    "language_info": {
      "name": "python"
    }
  },
  "cells": [
    {
      "cell_type": "markdown",
      "metadata": {
        "id": "view-in-github",
        "colab_type": "text"
      },
      "source": [
        "<a href=\"https://colab.research.google.com/github/rammya29/DevIncept-Python/blob/main/Module-1/Conditions.ipynb\" target=\"_parent\"><img src=\"https://colab.research.google.com/assets/colab-badge.svg\" alt=\"Open In Colab\"/></a>"
      ]
    },
    {
      "cell_type": "markdown",
      "metadata": {
        "id": "MdgLclF_Qxry"
      },
      "source": [
        "# Conditions"
      ]
    },
    {
      "cell_type": "markdown",
      "metadata": {
        "id": "ZmtOLiBdahgT"
      },
      "source": [
        "## 1. If-Statement\n",
        "\n",
        "Syntax:\n",
        "\n",
        "  ```\n",
        "   if (expression):\n",
        "     statement(s)\n",
        "  ```\n",
        "\n",
        "Here, the expression is the boolean condition we use.\n",
        "After the if statement, we have indentations for all the lines of code present inside the if block. This indentation helps a user to understand , which python lines are inside the if block.\n",
        "If the expression returns True , the if block is executed.\n",
        "It is not required to enclose the expression inside any parentheses.\n",
        "Colon(:), is very important , if missed , an error will occur. Colon , marks the beginning of the if block."
      ]
    },
    {
      "cell_type": "code",
      "metadata": {
        "colab": {
          "base_uri": "https://localhost:8080/"
        },
        "id": "n1cO7-8960_O",
        "outputId": "4e8d9846-8373-43ad-afe2-cd0b049f86ea"
      },
      "source": [
        "a = 0\n",
        "b = 20\n",
        "if a<b:\n",
        "    print(\"True\")"
      ],
      "execution_count": 1,
      "outputs": [
        {
          "output_type": "stream",
          "text": [
            "True\n"
          ],
          "name": "stdout"
        }
      ]
    },
    {
      "cell_type": "code",
      "metadata": {
        "id": "BFHsrz7ma-RY"
      },
      "source": [
        "if a:\n",
        "    print(\"True\")"
      ],
      "execution_count": 2,
      "outputs": []
    },
    {
      "cell_type": "code",
      "metadata": {
        "colab": {
          "base_uri": "https://localhost:8080/"
        },
        "id": "FJMrO6VVa-O6",
        "outputId": "4e171162-b191-41da-8723-e507394cee88"
      },
      "source": [
        "if a or b:\n",
        "    print(\"Atleast one greater than zero.\")"
      ],
      "execution_count": 3,
      "outputs": [
        {
          "output_type": "stream",
          "text": [
            "Atleast one greater than zero.\n"
          ],
          "name": "stdout"
        }
      ]
    },
    {
      "cell_type": "code",
      "metadata": {
        "id": "J5eAbfAUa-M-"
      },
      "source": [
        "if a and b:\n",
        "    print(\"Both greater than zero.\")"
      ],
      "execution_count": 4,
      "outputs": []
    },
    {
      "cell_type": "code",
      "metadata": {
        "colab": {
          "base_uri": "https://localhost:8080/"
        },
        "id": "xD2k1dd3a-KQ",
        "outputId": "a8893140-70fc-4173-a82c-1e3a113c7f39"
      },
      "source": [
        "if \"Dev\" in \"DevIncept\":\n",
        "    print(\"True\")"
      ],
      "execution_count": 5,
      "outputs": [
        {
          "output_type": "stream",
          "text": [
            "True\n"
          ],
          "name": "stdout"
        }
      ]
    },
    {
      "cell_type": "code",
      "metadata": {
        "colab": {
          "base_uri": "https://localhost:8080/"
        },
        "id": "RDxyyWwYa-FF",
        "outputId": "43f49a3b-5606-49d0-fdd5-35b09c0e8e43"
      },
      "source": [
        "if 'blue' in ['yellow','orange','blue','red']:\n",
        "    print(\"blue is present\")"
      ],
      "execution_count": 6,
      "outputs": [
        {
          "output_type": "stream",
          "text": [
            "blue is present\n"
          ],
          "name": "stdout"
        }
      ]
    },
    {
      "cell_type": "code",
      "metadata": {
        "colab": {
          "base_uri": "https://localhost:8080/"
        },
        "id": "YMaXInLqa9-V",
        "outputId": "ae82edf2-15b5-41e6-acdd-7c3205634f13"
      },
      "source": [
        "if True:\n",
        "    print(\"True\")"
      ],
      "execution_count": 7,
      "outputs": [
        {
          "output_type": "stream",
          "text": [
            "True\n"
          ],
          "name": "stdout"
        }
      ]
    },
    {
      "cell_type": "code",
      "metadata": {
        "id": "hG9y6M7SbO6H"
      },
      "source": [
        "if False:\n",
        "    print(\"True\")"
      ],
      "execution_count": 8,
      "outputs": []
    },
    {
      "cell_type": "code",
      "metadata": {
        "colab": {
          "base_uri": "https://localhost:8080/"
        },
        "id": "NssCHzshbO3f",
        "outputId": "91d5398a-5d39-4d8e-93df-e90c1a2bf0e2"
      },
      "source": [
        "if not False:\n",
        "    print(\"True\")"
      ],
      "execution_count": 9,
      "outputs": [
        {
          "output_type": "stream",
          "text": [
            "True\n"
          ],
          "name": "stdout"
        }
      ]
    },
    {
      "cell_type": "markdown",
      "metadata": {
        "id": "uDNkixSKbVRB"
      },
      "source": [
        "## 2.if-else statement:\n",
        "Syntax:\n",
        "\n",
        "  if (expression):\n",
        "\n",
        "  statement(s)\n",
        "\n",
        "  else:\n",
        "\n",
        "  statement(s)\n",
        "\n",
        "Here, the expression is the boolean condition we use.\n",
        "After the if statement, we have indentations for all the lines of code present inside the if block. This indentation helps a user to understand , which python lines are inside the if block , same for the else block.\n",
        "If the expression returns True , the if block is executed , otherwise , else block is executed.\n",
        "It is not required to enclose the expression inside any parentheses.\n",
        "Colon(:), is very important , if missed , an error will occur. Colon , marks the beginning of the any block."
      ]
    },
    {
      "cell_type": "code",
      "metadata": {
        "id": "O7PLF6wUbhic"
      },
      "source": [
        "a = 30\n",
        "b = 5"
      ],
      "execution_count": 10,
      "outputs": []
    },
    {
      "cell_type": "code",
      "metadata": {
        "colab": {
          "base_uri": "https://localhost:8080/"
        },
        "id": "OfT-QwcNbOz3",
        "outputId": "2123b117-c8aa-4eb2-a259-50f280b68cd6"
      },
      "source": [
        "if a<b:\n",
        "    print(a)\n",
        "else:\n",
        "    print(b)"
      ],
      "execution_count": 11,
      "outputs": [
        {
          "output_type": "stream",
          "text": [
            "5\n"
          ],
          "name": "stdout"
        }
      ]
    },
    {
      "cell_type": "code",
      "metadata": {
        "colab": {
          "base_uri": "https://localhost:8080/"
        },
        "id": "tq1WBxMVbOxP",
        "outputId": "2111d79e-b214-4b22-d765-44f822101520"
      },
      "source": [
        "if a or b:\n",
        "    print(\"Atleast one greater than zero\")\n",
        "else:\n",
        "    print(\"Both less than zero\")"
      ],
      "execution_count": 12,
      "outputs": [
        {
          "output_type": "stream",
          "text": [
            "Atleast one greater than zero\n"
          ],
          "name": "stdout"
        }
      ]
    },
    {
      "cell_type": "code",
      "metadata": {
        "colab": {
          "base_uri": "https://localhost:8080/"
        },
        "id": "-lQXyGJUbOu0",
        "outputId": "8666df6a-cbfb-404c-9b93-832163b76ab1"
      },
      "source": [
        "if a and b:\n",
        "    print(\"Both greater than zero\")\n",
        "else:\n",
        "    print(\"Cannot comment\")"
      ],
      "execution_count": 13,
      "outputs": [
        {
          "output_type": "stream",
          "text": [
            "Both greater than zero\n"
          ],
          "name": "stdout"
        }
      ]
    },
    {
      "cell_type": "code",
      "metadata": {
        "colab": {
          "base_uri": "https://localhost:8080/"
        },
        "id": "hYJlWdAqbOsN",
        "outputId": "dc9cd51f-c05d-4e22-ca6d-b058f2419074"
      },
      "source": [
        "if a:\n",
        "    print(\"a>0\")\n",
        "else:\n",
        "    print(\"a<=0\")"
      ],
      "execution_count": 14,
      "outputs": [
        {
          "output_type": "stream",
          "text": [
            "a>0\n"
          ],
          "name": "stdout"
        }
      ]
    },
    {
      "cell_type": "code",
      "metadata": {
        "colab": {
          "base_uri": "https://localhost:8080/"
        },
        "id": "mtutZuv0bOpb",
        "outputId": "7c9d1469-5286-430b-e46c-eeace90e0862"
      },
      "source": [
        "if \"fruits\" in [\"idea\",\"DevIncept\",\"boAt\"]:\n",
        "    print(\"present\")\n",
        "else:\n",
        "    print(\"Not present\")"
      ],
      "execution_count": 15,
      "outputs": [
        {
          "output_type": "stream",
          "text": [
            "Not present\n"
          ],
          "name": "stdout"
        }
      ]
    },
    {
      "cell_type": "code",
      "metadata": {
        "colab": {
          "base_uri": "https://localhost:8080/"
        },
        "id": "HSiKe4CSbuHX",
        "outputId": "f023db18-9f20-4b37-dea4-ffb03955bb04"
      },
      "source": [
        "if 'o' in \"Prachi\":\n",
        "    print(\"o is present in Prachi\")\n",
        "else:\n",
        "    print(\"o is not present\")"
      ],
      "execution_count": 16,
      "outputs": [
        {
          "output_type": "stream",
          "text": [
            "o is not present\n"
          ],
          "name": "stdout"
        }
      ]
    },
    {
      "cell_type": "code",
      "metadata": {
        "id": "u8ZJeDOFbuEW"
      },
      "source": [
        "p=\"Selected\""
      ],
      "execution_count": 17,
      "outputs": []
    },
    {
      "cell_type": "code",
      "metadata": {
        "colab": {
          "base_uri": "https://localhost:8080/"
        },
        "id": "4R5gNtasbuA8",
        "outputId": "95b27259-81a8-488f-c9c6-f92dc81c8176"
      },
      "source": [
        "if p==\"Selected\":\n",
        "    print(\"Congratulations!\")\n",
        "else:\n",
        "    print(\"Sorry!\")"
      ],
      "execution_count": 18,
      "outputs": [
        {
          "output_type": "stream",
          "text": [
            "Congratulations!\n"
          ],
          "name": "stdout"
        }
      ]
    },
    {
      "cell_type": "markdown",
      "metadata": {
        "id": "wN3GIqYvb3HY"
      },
      "source": [
        "## 3.Chained conditional statements\n",
        "Syntax:\n",
        "\n",
        "  if (expression):\n",
        "\n",
        "  statement(s)\n",
        "\n",
        "  elif (expression):\n",
        "\n",
        "  statements(s):\n",
        "\n",
        "  else :\n",
        "\n",
        "  statement(s)\n",
        "\n",
        "Here, the expression is the boolean condition we use.\n",
        "After the if statement, we have indentations for all the lines of code present inside the if block. This indentation helps a user to understand , which python lines are inside the if block , same is applied for elif and else block.\n",
        "If the expression in the if statement returns True , the if block is executed , otherwise , the control is shifted to else block.\n",
        "If the expression in the elif statement returns True , then elif block is executed , otherwise the control is shifted to else block.\n",
        "If the control is in else block , then else block will be executed.\n",
        "It is not required to enclose the expression inside any parentheses.\n",
        "Colon(:), is very important , if missed , an error will occur. Colon , marks the beginning of the any block."
      ]
    },
    {
      "cell_type": "code",
      "metadata": {
        "colab": {
          "base_uri": "https://localhost:8080/"
        },
        "id": "nMg0Q29Rbt9K",
        "outputId": "1a280803-947b-4757-a1f0-c9cd1d019292"
      },
      "source": [
        "a = 50\n",
        "b = -10\n",
        "if a<b:\n",
        "    print(\"a is less than b\")\n",
        "elif a>b:\n",
        "    print(\"a is greater than b\")\n",
        "else:\n",
        "    print(\"a is equal to b\")"
      ],
      "execution_count": 19,
      "outputs": [
        {
          "output_type": "stream",
          "text": [
            "a is greater than b\n"
          ],
          "name": "stdout"
        }
      ]
    },
    {
      "cell_type": "code",
      "metadata": {
        "colab": {
          "base_uri": "https://localhost:8080/"
        },
        "id": "2URaVJ55bt6t",
        "outputId": "5a01f372-cb5b-4f79-85d2-2919cf883209"
      },
      "source": [
        "if a and b:\n",
        "    print(\"Both greater than zero\")\n",
        "elif a or b:\n",
        "    print(\"Atleast one greater than zero\")\n",
        "else:\n",
        "    print(\"Both less than zero\")"
      ],
      "execution_count": 20,
      "outputs": [
        {
          "output_type": "stream",
          "text": [
            "Both greater than zero\n"
          ],
          "name": "stdout"
        }
      ]
    },
    {
      "cell_type": "code",
      "metadata": {
        "id": "uNk8dNvfbt3c"
      },
      "source": [
        "a = 5"
      ],
      "execution_count": 21,
      "outputs": []
    },
    {
      "cell_type": "code",
      "metadata": {
        "colab": {
          "base_uri": "https://localhost:8080/"
        },
        "id": "U8PV1118cHxL",
        "outputId": "ad31137b-1855-4aba-afcb-b72c748359b1"
      },
      "source": [
        "if a%3==0:\n",
        "    print(\"a is divisible by 3\")\n",
        "elif a%2==0:\n",
        "    print(\"a is divisible by 2 but not 3\")\n",
        "else:\n",
        "    print(\"a is neither divisible by 3 nor 2\")"
      ],
      "execution_count": 22,
      "outputs": [
        {
          "output_type": "stream",
          "text": [
            "a is neither divisible by 3 nor 2\n"
          ],
          "name": "stdout"
        }
      ]
    },
    {
      "cell_type": "code",
      "metadata": {
        "colab": {
          "base_uri": "https://localhost:8080/"
        },
        "id": "Ojpz2lEKcHta",
        "outputId": "9b3d704d-a98f-4a7e-952c-868ce12795f0"
      },
      "source": [
        "if p==\"Selected\":\n",
        "    print(\"Congratulations!!\")\n",
        "elif p==\"On hold\":\n",
        "    print(\"Currently your application is on hold\")\n",
        "else:\n",
        "    print(\"Sorry , not selected\")"
      ],
      "execution_count": 23,
      "outputs": [
        {
          "output_type": "stream",
          "text": [
            "Congratulations!!\n"
          ],
          "name": "stdout"
        }
      ]
    },
    {
      "cell_type": "markdown",
      "metadata": {
        "id": "uzSdqknfcS4c"
      },
      "source": [
        "## End of Fourth Practice Exercises\n",
        "\n",
        "See you in next topic"
      ]
    }
  ]
}