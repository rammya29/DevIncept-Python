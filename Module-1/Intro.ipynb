{
  "nbformat": 4,
  "nbformat_minor": 0,
  "metadata": {
    "colab": {
      "name": "Untitled19.ipynb",
      "provenance": [],
      "authorship_tag": "ABX9TyNU+8CmTrI2WR1O+TKTw2EI",
      "include_colab_link": true
    },
    "kernelspec": {
      "name": "python3",
      "display_name": "Python 3"
    },
    "language_info": {
      "name": "python"
    }
  },
  "cells": [
    {
      "cell_type": "markdown",
      "metadata": {
        "id": "view-in-github",
        "colab_type": "text"
      },
      "source": [
        "<a href=\"https://colab.research.google.com/github/rammya29/DevIncept-Python/blob/main/Module-1/Intro.ipynb\" target=\"_parent\"><img src=\"https://colab.research.google.com/assets/colab-badge.svg\" alt=\"Open In Colab\"/></a>"
      ]
    },
    {
      "cell_type": "markdown",
      "metadata": {
        "id": "j9fQ7OvE10I4"
      },
      "source": [
        "# Introduction To Python"
      ]
    },
    {
      "cell_type": "markdown",
      "metadata": {
        "id": "QyxmRZdt1_5J"
      },
      "source": [
        "Here we are going to learn about Python basic Syntax"
      ]
    },
    {
      "cell_type": "markdown",
      "metadata": {
        "id": "MPvBV_m32PlA"
      },
      "source": [
        "## 1. Print Statement "
      ]
    },
    {
      "cell_type": "markdown",
      "metadata": {
        "id": "A-qE7_DU6TD6"
      },
      "source": [
        "The print function in Python is a function that outputs to your console window whatever you say you want to print out."
      ]
    },
    {
      "cell_type": "markdown",
      "metadata": {
        "id": "lOvNpwhI2Vu1"
      },
      "source": [
        "Print Statement  "
      ]
    },
    {
      "cell_type": "code",
      "metadata": {
        "colab": {
          "base_uri": "https://localhost:8080/"
        },
        "id": "Vm4e2lwa1fd_",
        "outputId": "c3ed09d4-df15-4f0e-a5b0-107c96518e19"
      },
      "source": [
        "print(\"Hello Dvincept\")"
      ],
      "execution_count": 1,
      "outputs": [
        {
          "output_type": "stream",
          "text": [
            "Hello Dvincept\n"
          ],
          "name": "stdout"
        }
      ]
    },
    {
      "cell_type": "code",
      "metadata": {
        "colab": {
          "base_uri": "https://localhost:8080/"
        },
        "id": "5QNMtqkE2ynF",
        "outputId": "6e55895b-b3d5-4722-edad-e5aaf58b0584"
      },
      "source": [
        "print('Welcome Rammya To the World Of Python')"
      ],
      "execution_count": 2,
      "outputs": [
        {
          "output_type": "stream",
          "text": [
            "Welcome Rammya To the World Of Python\n"
          ],
          "name": "stdout"
        }
      ]
    },
    {
      "cell_type": "markdown",
      "metadata": {
        "id": "IkfoIijB258R"
      },
      "source": [
        "Print Numbers"
      ]
    },
    {
      "cell_type": "code",
      "metadata": {
        "colab": {
          "base_uri": "https://localhost:8080/"
        },
        "id": "prjohDhw3E5U",
        "outputId": "e550db65-aaa3-4dd1-f27a-57b71f430d2e"
      },
      "source": [
        "print(2021)"
      ],
      "execution_count": 3,
      "outputs": [
        {
          "output_type": "stream",
          "text": [
            "2021\n"
          ],
          "name": "stdout"
        }
      ]
    },
    {
      "cell_type": "markdown",
      "metadata": {
        "id": "-d0IaNsb3L7o"
      },
      "source": [
        "Print Float"
      ]
    },
    {
      "cell_type": "code",
      "metadata": {
        "colab": {
          "base_uri": "https://localhost:8080/"
        },
        "id": "0VdSuFPu3FhG",
        "outputId": "3cd6d116-ea06-4f82-ebd1-1cab0a4b7f8b"
      },
      "source": [
        "print(10.5)"
      ],
      "execution_count": 4,
      "outputs": [
        {
          "output_type": "stream",
          "text": [
            "10.5\n"
          ],
          "name": "stdout"
        }
      ]
    },
    {
      "cell_type": "markdown",
      "metadata": {
        "id": "i-SNAWhL3SkI"
      },
      "source": [
        "Print Numbers with Operators"
      ]
    },
    {
      "cell_type": "code",
      "metadata": {
        "colab": {
          "base_uri": "https://localhost:8080/"
        },
        "id": "UcPjKOy03Fd5",
        "outputId": "4d1478ab-019b-4d03-b35f-e385f6f76a1e"
      },
      "source": [
        "print(201+32)"
      ],
      "execution_count": 5,
      "outputs": [
        {
          "output_type": "stream",
          "text": [
            "233\n"
          ],
          "name": "stdout"
        }
      ]
    },
    {
      "cell_type": "code",
      "metadata": {
        "colab": {
          "base_uri": "https://localhost:8080/"
        },
        "id": "fPYxjF2u3FZA",
        "outputId": "ac143c0a-26a2-4dcf-9b04-859ac8db67d3"
      },
      "source": [
        "print(34-12)"
      ],
      "execution_count": 6,
      "outputs": [
        {
          "output_type": "stream",
          "text": [
            "22\n"
          ],
          "name": "stdout"
        }
      ]
    },
    {
      "cell_type": "code",
      "metadata": {
        "colab": {
          "base_uri": "https://localhost:8080/"
        },
        "id": "SGRQlbV93FTk",
        "outputId": "b5bfa1d1-2487-4c8c-f715-8f1d963294d3"
      },
      "source": [
        "print(100/10)"
      ],
      "execution_count": 7,
      "outputs": [
        {
          "output_type": "stream",
          "text": [
            "10.0\n"
          ],
          "name": "stdout"
        }
      ]
    },
    {
      "cell_type": "markdown",
      "metadata": {
        "id": "QuNWUCxE3rPU"
      },
      "source": [
        "## 2. Value Initialization"
      ]
    },
    {
      "cell_type": "markdown",
      "metadata": {
        "id": "ZYBDlYCr6Z9k"
      },
      "source": [
        "In python there is no need to declare the datatype(string,integer,....) of the varaiables before initialization."
      ]
    },
    {
      "cell_type": "code",
      "metadata": {
        "colab": {
          "base_uri": "https://localhost:8080/"
        },
        "id": "mDpCiTf33dx2",
        "outputId": "5db5ce91-1a29-49f2-ce7b-a969ed381fa5"
      },
      "source": [
        "a = \"What are you doing ?\"\n",
        "print(a)"
      ],
      "execution_count": 8,
      "outputs": [
        {
          "output_type": "stream",
          "text": [
            "What are you doing ?\n"
          ],
          "name": "stdout"
        }
      ]
    },
    {
      "cell_type": "code",
      "metadata": {
        "colab": {
          "base_uri": "https://localhost:8080/"
        },
        "id": "i8NTXvuT33d_",
        "outputId": "4c6f0008-8ed5-43df-8a6e-75b750a33378"
      },
      "source": [
        "b = \"I am Learning Python3. \"\n",
        "print(b)"
      ],
      "execution_count": 9,
      "outputs": [
        {
          "output_type": "stream",
          "text": [
            "I am Learning Python3. \n"
          ],
          "name": "stdout"
        }
      ]
    },
    {
      "cell_type": "code",
      "metadata": {
        "colab": {
          "base_uri": "https://localhost:8080/"
        },
        "id": "5DxIRS3t3-xv",
        "outputId": "cb459f20-7add-478c-d3ea-40cedbb813c0"
      },
      "source": [
        "c = 7\n",
        "print(c)"
      ],
      "execution_count": 10,
      "outputs": [
        {
          "output_type": "stream",
          "text": [
            "7\n"
          ],
          "name": "stdout"
        }
      ]
    },
    {
      "cell_type": "code",
      "metadata": {
        "colab": {
          "base_uri": "https://localhost:8080/"
        },
        "id": "FShxs6m13-vv",
        "outputId": "a634bc51-f921-476d-b0a5-a31aae6922a9"
      },
      "source": [
        "d = 10.34876\n",
        "print(d)"
      ],
      "execution_count": 11,
      "outputs": [
        {
          "output_type": "stream",
          "text": [
            "10.34876\n"
          ],
          "name": "stdout"
        }
      ]
    },
    {
      "cell_type": "code",
      "metadata": {
        "colab": {
          "base_uri": "https://localhost:8080/"
        },
        "id": "uT5-hQ3J3-tM",
        "outputId": "bc6b8a4a-1147-4e05-8fc6-d7b9e8acafec"
      },
      "source": [
        "f = 10.000000\n",
        "print(f)"
      ],
      "execution_count": 12,
      "outputs": [
        {
          "output_type": "stream",
          "text": [
            "10.0\n"
          ],
          "name": "stdout"
        }
      ]
    },
    {
      "cell_type": "markdown",
      "metadata": {
        "id": "nEzf3OPJ4OSg"
      },
      "source": [
        "Opertion using Variables"
      ]
    },
    {
      "cell_type": "code",
      "metadata": {
        "colab": {
          "base_uri": "https://localhost:8080/"
        },
        "id": "fCVVw4_K3-pX",
        "outputId": "7b465718-b164-43c1-8f28-bf9e8137a4c7"
      },
      "source": [
        "print(c+f)"
      ],
      "execution_count": 13,
      "outputs": [
        {
          "output_type": "stream",
          "text": [
            "17.0\n"
          ],
          "name": "stdout"
        }
      ]
    },
    {
      "cell_type": "code",
      "metadata": {
        "colab": {
          "base_uri": "https://localhost:8080/"
        },
        "id": "4xgb6y9B3-la",
        "outputId": "8b628459-83a8-4163-a3e4-2543610f775f"
      },
      "source": [
        "print(d-c)"
      ],
      "execution_count": 14,
      "outputs": [
        {
          "output_type": "stream",
          "text": [
            "3.3487600000000004\n"
          ],
          "name": "stdout"
        }
      ]
    },
    {
      "cell_type": "markdown",
      "metadata": {
        "id": "X-5OJwA74cx1"
      },
      "source": [
        "## 3. Value Input"
      ]
    },
    {
      "cell_type": "markdown",
      "metadata": {
        "id": "Lf-LaWVy6c_H"
      },
      "source": [
        "In python  there is no need to declare the datatype(string,integer,....) of the varaiables before taking the input"
      ]
    },
    {
      "cell_type": "code",
      "metadata": {
        "colab": {
          "base_uri": "https://localhost:8080/"
        },
        "id": "8_ADwFgV3-ik",
        "outputId": "2da80b4a-0182-4e81-94ec-2d8767e7d1fa"
      },
      "source": [
        "inp = input() # It will get string as a datatype"
      ],
      "execution_count": 15,
      "outputs": [
        {
          "output_type": "stream",
          "text": [
            "Hello Rammya\n"
          ],
          "name": "stdout"
        }
      ]
    },
    {
      "cell_type": "code",
      "metadata": {
        "colab": {
          "base_uri": "https://localhost:8080/"
        },
        "id": "4Aq1fn6n4tFq",
        "outputId": "baca22b4-522c-4873-dc48-13a043a96aa2"
      },
      "source": [
        "print(inp)"
      ],
      "execution_count": 16,
      "outputs": [
        {
          "output_type": "stream",
          "text": [
            "Hello Rammya\n"
          ],
          "name": "stdout"
        }
      ]
    },
    {
      "cell_type": "markdown",
      "metadata": {
        "id": "a5SVEjDk4w5u"
      },
      "source": [
        "To get integer input"
      ]
    },
    {
      "cell_type": "code",
      "metadata": {
        "colab": {
          "base_uri": "https://localhost:8080/"
        },
        "id": "99shq3ZJ4tDZ",
        "outputId": "e41a443a-bba5-4548-9435-b1670c6ac40f"
      },
      "source": [
        "integer = int(input())"
      ],
      "execution_count": 17,
      "outputs": [
        {
          "output_type": "stream",
          "text": [
            "15\n"
          ],
          "name": "stdout"
        }
      ]
    },
    {
      "cell_type": "code",
      "metadata": {
        "colab": {
          "base_uri": "https://localhost:8080/"
        },
        "id": "xq0l9DqC4tAk",
        "outputId": "9ce24ca8-98a7-4a28-8bb2-04d1d1b99fde"
      },
      "source": [
        "print(integer)"
      ],
      "execution_count": 18,
      "outputs": [
        {
          "output_type": "stream",
          "text": [
            "15\n"
          ],
          "name": "stdout"
        }
      ]
    },
    {
      "cell_type": "markdown",
      "metadata": {
        "id": "yNBiEpBY49Pq"
      },
      "source": [
        "To get float input"
      ]
    },
    {
      "cell_type": "code",
      "metadata": {
        "colab": {
          "base_uri": "https://localhost:8080/"
        },
        "id": "G1gzR6D_4s3Y",
        "outputId": "e259cff7-bc77-4a73-8fcb-3ce96b34de0b"
      },
      "source": [
        "floatinput = float(input())"
      ],
      "execution_count": 19,
      "outputs": [
        {
          "output_type": "stream",
          "text": [
            "30.548\n"
          ],
          "name": "stdout"
        }
      ]
    },
    {
      "cell_type": "code",
      "metadata": {
        "colab": {
          "base_uri": "https://localhost:8080/"
        },
        "id": "_rSY_LJN5FnJ",
        "outputId": "45bf2a9f-6222-4e3e-c225-9a313fb4268f"
      },
      "source": [
        "print(floatinput)"
      ],
      "execution_count": 20,
      "outputs": [
        {
          "output_type": "stream",
          "text": [
            "30.548\n"
          ],
          "name": "stdout"
        }
      ]
    },
    {
      "cell_type": "markdown",
      "metadata": {
        "id": "W3-7JPTX5JP0"
      },
      "source": [
        "## Comments"
      ]
    },
    {
      "cell_type": "markdown",
      "metadata": {
        "id": "_XduZ_C-6m3y"
      },
      "source": [
        "Comments are used to explain what the code does in each line. Python will ignore the Comments."
      ]
    },
    {
      "cell_type": "markdown",
      "metadata": {
        "id": "VeHmUFal5N8k"
      },
      "source": [
        "Single Line Comment - #"
      ]
    },
    {
      "cell_type": "code",
      "metadata": {
        "colab": {
          "base_uri": "https://localhost:8080/"
        },
        "id": "EHocz2UB5Mj8",
        "outputId": "23e3a4f2-e70e-44fa-dc0a-b751f1d59ab9"
      },
      "source": [
        "# Single line comment operator\n",
        "print('Single Line Operator executed')"
      ],
      "execution_count": 22,
      "outputs": [
        {
          "output_type": "stream",
          "text": [
            "Single Line Operator executed\n"
          ],
          "name": "stdout"
        }
      ]
    },
    {
      "cell_type": "markdown",
      "metadata": {
        "id": "Wq_j72y05dMI"
      },
      "source": [
        "Mutlti line Operator - ''' '''"
      ]
    },
    {
      "cell_type": "code",
      "metadata": {
        "colab": {
          "base_uri": "https://localhost:8080/"
        },
        "id": "uyE4VXwx5g7T",
        "outputId": "248c1846-3791-416b-bb46-ab57ee92be46"
      },
      "source": [
        "\"\"\" Mutli line command\n",
        "It is used for multi lines to make it as a command line \"\"\"\n",
        "\n",
        "y = 3\n",
        "z = 4\n",
        "print(3**4)"
      ],
      "execution_count": 23,
      "outputs": [
        {
          "output_type": "stream",
          "text": [
            "81\n"
          ],
          "name": "stdout"
        }
      ]
    },
    {
      "cell_type": "markdown",
      "metadata": {
        "id": "8ASBqwTf54dH"
      },
      "source": [
        "# End Of First Topic - Exercise\n",
        "\n",
        "See You in Next Topic "
      ]
    }
  ]
}